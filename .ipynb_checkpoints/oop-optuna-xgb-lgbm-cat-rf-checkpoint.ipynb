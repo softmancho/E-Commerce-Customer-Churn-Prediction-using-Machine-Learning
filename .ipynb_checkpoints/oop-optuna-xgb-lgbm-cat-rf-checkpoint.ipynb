{
 "cells": [
  {
   "cell_type": "code",
   "execution_count": 1,
   "metadata": {
    "_cell_guid": "b1076dfc-b9ad-4769-8c92-a6c4dae69d19",
    "_uuid": "8f2839f25d086af736a60e9eeb907d3b93b6e0e5",
    "execution": {
     "iopub.execute_input": "2023-03-29T17:19:29.155338Z",
     "iopub.status.busy": "2023-03-29T17:19:29.154350Z",
     "iopub.status.idle": "2023-03-29T17:19:31.048523Z",
     "shell.execute_reply": "2023-03-29T17:19:31.047210Z",
     "shell.execute_reply.started": "2023-03-29T17:19:29.155271Z"
    }
   },
   "outputs": [],
   "source": [
    "import numpy as np # linear algebra\n",
    "import pandas as pd # data processing, CSV file I/O (e.g. pd.read_csv)\n",
    "from sklearn.preprocessing import StandardScaler, OneHotEncoder, LabelEncoder\n",
    "from sklearn.model_selection import KFold, StratifiedKFold, cross_val_score\n",
    "from sklearn.metrics import accuracy_score, roc_auc_score, classification_report, confusion_matrix, f1_score,roc_curve, precision_score, recall_score,roc_auc_score\n",
    "from sklearn import linear_model, tree, ensemble\n",
    "from sklearn.model_selection import train_test_split\n",
    "import warnings\n",
    "warnings.simplefilter(action=\"ignore\")"
   ]
  },
  {
   "cell_type": "code",
   "execution_count": null,
   "metadata": {
    "execution": {
     "iopub.execute_input": "2023-03-28T23:49:48.772473Z",
     "iopub.status.busy": "2023-03-28T23:49:48.771946Z",
     "iopub.status.idle": "2023-03-28T23:49:48.786558Z",
     "shell.execute_reply": "2023-03-28T23:49:48.784837Z",
     "shell.execute_reply.started": "2023-03-28T23:49:48.772426Z"
    }
   },
   "outputs": [],
   "source": [
    "def reduce_memory_usage(df):\n",
    "    for col in df.columns:\n",
    "        col_type = df[col].dtype\n",
    "        if col_type != 'object':\n",
    "            c_min = df[col].min()\n",
    "            c_max = df[col].max()\n",
    "            if str(col_type)[:3] == 'int':\n",
    "                if c_min > np.iinfo(np.int8).min and c_max < np.iinfo(np.int8).max:\n",
    "                    df[col] = df[col].astype(np.int8)\n",
    "                elif c_min > np.iinfo(np.int16).min and c_max < np.iinfo(np.int16).max:\n",
    "                    df[col] = df[col].astype(np.int16)\n",
    "                elif c_min > np.iinfo(np.int32).min and c_max < np.iinfo(np.int32).max:\n",
    "                    df[col] = df[col].astype(np.int32)\n",
    "                elif c_min > np.iinfo(np.int64).min and c_max < np.iinfo(np.int64).max:\n",
    "                    df[col] = df[col].astype(np.int64)\n",
    "            else:\n",
    "                if c_min > np.finfo(np.float16).min and c_max < np.finfo(np.float16).max:\n",
    "                    df[col] = df[col].astype(np.float16)\n",
    "                elif c_min > np.finfo(np.float32).min and c_max < np.finfo(np.float32).max:\n",
    "                    df[col] = df[col].astype(np.float32)\n",
    "                else:\n",
    "                    pass\n",
    "        else:\n",
    "            df[col] = df[col].astype('category')\n",
    "    return df"
   ]
  },
  {
   "cell_type": "code",
   "execution_count": 8,
   "metadata": {
    "execution": {
     "iopub.execute_input": "2023-03-29T17:21:21.712005Z",
     "iopub.status.busy": "2023-03-29T17:21:21.711401Z",
     "iopub.status.idle": "2023-03-29T17:21:23.759993Z",
     "shell.execute_reply": "2023-03-29T17:21:23.757657Z",
     "shell.execute_reply.started": "2023-03-29T17:21:21.711956Z"
    }
   },
   "outputs": [
    {
     "data": {
      "text/plain": [
       "(array([0, 1]), array([4682,  948]))"
      ]
     },
     "execution_count": 8,
     "metadata": {},
     "output_type": "execute_result"
    }
   ],
   "source": [
    "class Preprocessing:\n",
    "    def __init__(self, df):\n",
    "        self.df = df\n",
    "        \n",
    "    def shape(self):\n",
    "        print(f'shape: {self.df.shape}')\n",
    "    \n",
    "    def dtypes(self, pr=False):\n",
    "        print(\"Types\")\n",
    "        if pr:\n",
    "            print(self.df.dtypes)\n",
    "            \n",
    "    def supposed2beint(self):\n",
    "        float_cols = [column for column in self.df.columns if self.df[column].dtype == 'float']\n",
    "        int2be_cols = []\n",
    "        for col in float_cols:\n",
    "            if (self.df[col].fillna(-9999) % 1  == 0).all() == True:\n",
    "                int2be_cols.append(col)\n",
    "        return int2be_cols\n",
    "                \n",
    "    def isNaN(self, pr=False):\n",
    "        if pr:\n",
    "            print(\"Contain NaN\")\n",
    "            print(self.df.isnull().sum())\n",
    "        else:\n",
    "            return self.df.columns[self.df.isna().any()].tolist()\n",
    "    \n",
    "    def isObject(self):\n",
    "        return [column for column in self.df.columns if self.df[column].dtype == 'object']\n",
    "        \n",
    "    def check_dataframe(self):\n",
    "        self.shape()\n",
    "        self.dtypes(True)\n",
    "        self.isNaN(True)\n",
    "        \n",
    "    def fillNaN(self):\n",
    "        nan_cols = self.isNaN()\n",
    "        int2be_cols = self.supposed2beint()\n",
    "        # nan_cols == int2be_cols they are the same\n",
    "        for col in int2be_cols:\n",
    "            self.df[col].fillna(round(self.df[col].mean()), inplace=True)\n",
    "            self.df[col] = self.df[col].astype(int)\n",
    "            \n",
    "    def adjust_category_cols(self):\n",
    "        self.fillNaN()\n",
    "        #PreferredLoginDevice\n",
    "        self.df.loc[self.df[\"PreferredLoginDevice\"] == \"Mobile Phone\", \"PreferredLoginDevice\"] = \"Phone\"\n",
    "        #PreferredPaymentMode\n",
    "        self.df.loc[self.df[\"PreferredPaymentMode\"] == \"Credit Card\", \"PreferredPaymentMode\"] = \"CC\"\n",
    "        self.df.loc[self.df[\"PreferredPaymentMode\"] == \"Cash on Delivery\", \"PreferredPaymentMode\"] = \"COD\"\n",
    "        #PreferredLoginDevice\n",
    "        self.df.loc[self.df[\"PreferredLoginDevice\"] == \"Mobile Phone\", \"PreferredLoginDevice\"] = \"Phone\"\n",
    "        \n",
    "    def drop_useless_cols(self):\n",
    "        self.df.drop(['CustomerID'], axis=1, inplace=True)\n",
    "        \n",
    "    def split_target(self):\n",
    "        self.adjust_category_cols()\n",
    "        self.drop_useless_cols()\n",
    "        self.X = self.df.drop('Churn', axis=1)\n",
    "        self.y = self.df['Churn'].astype(int).to_numpy()\n",
    "        \n",
    "    def find_enc_method(self):\n",
    "        cat_cols = self.isObject()\n",
    "        one_hot_cols = [col for col in cat_cols if self.X[col].nunique() <=3]\n",
    "        label_enc_cols = [col for col in cat_cols if col not in one_hot_cols]\n",
    "        return one_hot_cols, label_enc_cols, cat_cols\n",
    "    \n",
    "    def encoding(self):\n",
    "        one_hot_cols, label_enc_cols, cat_cols = self.find_enc_method()\n",
    "        num_cols = [col for col in self.X.columns if col not in cat_cols]\n",
    "        X_OHE, X_LE, X_NUM = self.X[one_hot_cols].copy(), self.X[label_enc_cols].copy(), self.X[num_cols].copy()\n",
    "        self.OHE = OneHotEncoder(drop='first', handle_unknown='error')\n",
    "        X_OHE = self.OHE.fit_transform(X_OHE).toarray()\n",
    "        self.le_dict = {}\n",
    "        self.LE = LabelEncoder()\n",
    "#         X_LE[label_enc_cols] = X_LE[label_enc_cols].apply(lambda col: self.LE.fit_transform(col))   \n",
    "        for col in X_LE.columns:\n",
    "            self.le_dict[col] = self.LE.fit(X_LE[col])\n",
    "            X_LE[col] = self.le_dict[col].transform(X_LE[col])\n",
    "        return X_OHE, X_LE.to_numpy(), X_NUM.to_numpy()\n",
    "\n",
    "    def scaling(self):\n",
    "        X_OHE, X_LE, X_num = self.encoding()\n",
    "        self.SS = StandardScaler()\n",
    "        X_num = self.SS.fit_transform(X_num)\n",
    "        self.X_total = np.concatenate((X_OHE, X_LE, X_num), axis=1)\n",
    "#         self.X_total = self.SS.fit_transform(self.X_total)\n",
    "        \n",
    "    def get_encoders(self):\n",
    "        return self.OHE, self.LE, self.le_dict\n",
    "    \n",
    "    def get_scaler(self):\n",
    "        return self.SS   \n",
    "\n",
    "    def get_default_Xy(self):\n",
    "        self.split_target()\n",
    "        return self.X, self.y\n",
    "      \n",
    "    def get_Xy(self):\n",
    "        self.split_target()\n",
    "        self.scaling()\n",
    "        return self.X_total, self.y\n",
    "\n",
    "df = pd.read_excel('/kaggle/input/ecommerce-customer-churn-analysis-and-prediction/E Commerce Dataset.xlsx', sheet_name='E Comm')\n",
    "data = pd.read_excel('/kaggle/input/ecommerce-customer-churn-analysis-and-prediction/E Commerce Dataset.xlsx', sheet_name='Data Dict')\n",
    "pre = Preprocessing(df)\n",
    "X, y = pre.get_Xy()\n",
    "unique, counts = np.unique(y, return_counts=True)\n",
    "unique, counts"
   ]
  },
  {
   "cell_type": "code",
   "execution_count": 6,
   "metadata": {
    "execution": {
     "iopub.execute_input": "2023-03-29T17:19:59.841365Z",
     "iopub.status.busy": "2023-03-29T17:19:59.840825Z",
     "iopub.status.idle": "2023-03-29T17:20:00.188741Z",
     "shell.execute_reply": "2023-03-29T17:20:00.186663Z",
     "shell.execute_reply.started": "2023-03-29T17:19:59.841310Z"
    }
   },
   "outputs": [
    {
     "name": "stdout",
     "output_type": "stream",
     "text": [
      "(9364, 19)\n",
      "(9364,)\n"
     ]
    }
   ],
   "source": [
    "from imblearn.over_sampling import SMOTE\n",
    "\n",
    "def apply_smote(X, y, random_state=None):\n",
    "    \"\"\"\n",
    "    Applies SMOTE to the input features (X) and target variable (y) to balance the dataset.\n",
    "    \n",
    "    Parameters:\n",
    "    X: numpy array or pandas DataFrame with the input features\n",
    "    y: numpy array or pandas Series with the target variable\n",
    "    random_state: int, default=None, controls the randomness of the SMOTE algorithm\n",
    "    \n",
    "    Returns:\n",
    "    X_resampled: numpy array with the resampled input features\n",
    "    y_resampled: numpy array with the resampled target variable\n",
    "    \"\"\"\n",
    "    smote = SMOTE(random_state=random_state)\n",
    "    X_resampled, y_resampled = smote.fit_resample(X, y)\n",
    "    return X_resampled, y_resampled\n",
    "\n",
    "X_resampled, y_resampled = apply_smote(X, y, random_state=42)\n",
    "print(X_resampled.shape)\n",
    "print(y_resampled.shape)"
   ]
  },
  {
   "cell_type": "code",
   "execution_count": null,
   "metadata": {
    "execution": {
     "iopub.execute_input": "2023-03-29T15:05:50.813107Z",
     "iopub.status.busy": "2023-03-29T15:05:50.812790Z",
     "iopub.status.idle": "2023-03-29T15:05:50.930184Z",
     "shell.execute_reply": "2023-03-29T15:05:50.928537Z",
     "shell.execute_reply.started": "2023-03-29T15:05:50.813081Z"
    }
   },
   "outputs": [],
   "source": [
    "X_train, X_test, y_train, y_test = train_test_split(X,y, test_size = 0.2, random_state = 42)\n",
    "model = linear_model.LogisticRegression(max_iter=1000)\n",
    "model.fit(X_train, y_train)\n",
    "y_pred = model.predict(X_test)\n",
    "accuracy = accuracy_score(y_test, y_pred)\n",
    "CR = classification_report(y_test, y_pred)\n",
    "CM = confusion_matrix(y_test, y_pred)\n",
    "f1 = f1_score(y_test, y_pred)\n",
    "roc_auc = roc_auc_score(y_test, y_pred)\n",
    "print(\"=\"*60)\n",
    "print(f\"Accuracy: {accuracy:.4f}\")\n",
    "print(\"=\"*60)\n",
    "print(f\"Classification Report:\\n {CR}\")\n",
    "print(\"=\"*60)\n",
    "print(f\"Confusion Matrix: {CM}\")\n",
    "print(\"=\"*60)\n",
    "print(f\"F1 Score: {f1:.4f}\")\n",
    "print(\"=\"*60)\n",
    "print(f\"ROC AUC Score: {roc_auc:.4f}\")\n",
    "print(\"=\"*60)"
   ]
  },
  {
   "cell_type": "code",
   "execution_count": null,
   "metadata": {
    "execution": {
     "iopub.execute_input": "2023-03-29T14:32:06.320200Z",
     "iopub.status.busy": "2023-03-29T14:32:06.319860Z",
     "iopub.status.idle": "2023-03-29T14:41:54.352348Z",
     "shell.execute_reply": "2023-03-29T14:41:54.351654Z",
     "shell.execute_reply.started": "2023-03-29T14:32:06.320172Z"
    }
   },
   "outputs": [],
   "source": [
    "import optuna\n",
    "from xgboost import XGBClassifier\n",
    "def objective_xgb(trial):\n",
    "    X_train, X_test, y_train, y_test = train_test_split(X, y, test_size=0.3, random_state=42, stratify=y)\n",
    "    param = {\n",
    "        'lambda': trial.suggest_loguniform('lambda', 1e-3, 10.0),\n",
    "        'alpha': trial.suggest_loguniform('alpha', 1e-3, 10.0),\n",
    "        'colsample_bytree': trial.suggest_categorical('colsample_bytree', [0.5,0.6,0.7,0.8,0.9,1.0]),\n",
    "        'subsample': trial.suggest_categorical('subsample', [0.6,0.7,0.8,1.0]),\n",
    "        'learning_rate': trial.suggest_categorical('learning_rate', [0.008,0.009,0.01,0.012,0.014,0.016,0.018, 0.02]),\n",
    "        'n_estimators': trial.suggest_categorical(\"n_estimators\", [150, 200, 300, 3000]),\n",
    "        'max_depth': trial.suggest_categorical('max_depth', [4,5,7,9,11,13,15,17]),\n",
    "        'random_state': 42,\n",
    "        'min_child_weight': trial.suggest_int('min_child_weight', 1, 300),\n",
    "    }\n",
    "    model = XGBClassifier(**param)\n",
    "    model.fit(X_train, y_train, early_stopping_rounds=50, eval_set=[(X_test, y_test)], verbose=False)   \n",
    "    preds = model.predict(X_test)\n",
    "    \n",
    "    acc = accuracy_score(y_test, preds)      \n",
    "\n",
    "    return acc\n",
    "\n",
    "study = optuna.create_study(direction='maximize')\n",
    "study.optimize(objective_xgb, n_trials=50)\n",
    "params_xgb = study.best_trial.params\n",
    "print('Number of finished trials:', len(study.trials))\n",
    "print('Best trial:', params_xgb)"
   ]
  },
  {
   "cell_type": "code",
   "execution_count": null,
   "metadata": {
    "execution": {
     "iopub.execute_input": "2023-03-29T15:05:58.527852Z",
     "iopub.status.busy": "2023-03-29T15:05:58.527511Z",
     "iopub.status.idle": "2023-03-29T15:06:26.523883Z",
     "shell.execute_reply": "2023-03-29T15:06:26.522446Z",
     "shell.execute_reply.started": "2023-03-29T15:05:58.527824Z"
    }
   },
   "outputs": [],
   "source": [
    " X_train, X_test, y_train, y_test = train_test_split(X, y, test_size=0.3, random_state=42, stratify=y)\n",
    "model = XGBClassifier(**params_xgb)\n",
    "model.fit(X_train, y_train, early_stopping_rounds=50, eval_set=[(X_test, y_test)], verbose=False)   \n",
    "y_pred = model.predict(X_test)\n",
    "print(f\"Accuracy: {round(accuracy_score(y_pred, y_test), 2)}\")\n",
    "print(\"=\"*60)\n",
    "print(f\"Recall: {round(recall_score(y_pred,y_test),2)}\")\n",
    "print(\"=\"*60)\n",
    "print(f\"Precision: {round(precision_score(y_pred,y_test), 2)}\")\n",
    "print(\"=\"*60)\n",
    "print(f\"F1: {round(f1_score(y_pred,y_test), 2)}\")\n",
    "print(\"=\"*60)\n",
    "print(f\"Auc: {round(roc_auc_score(y_pred,y_test), 2)}\")\n",
    "print(\"=\"*60)\n",
    "CR = classification_report(y_test, y_pred)\n",
    "CM = confusion_matrix(y_test, y_pred)\n",
    "print(f\"Classification Report:\\n {CR}\")\n",
    "print(\"=\"*60)\n",
    "print(f\"Confusion Matrix: {CM}\")\n",
    "print(\"=\"*60)"
   ]
  },
  {
   "cell_type": "code",
   "execution_count": 9,
   "metadata": {
    "execution": {
     "iopub.execute_input": "2023-03-29T17:27:18.874692Z",
     "iopub.status.busy": "2023-03-29T17:27:18.874119Z",
     "iopub.status.idle": "2023-03-29T17:47:00.615328Z",
     "shell.execute_reply": "2023-03-29T17:47:00.614316Z",
     "shell.execute_reply.started": "2023-03-29T17:27:18.874640Z"
    }
   },
   "outputs": [
    {
     "name": "stderr",
     "output_type": "stream",
     "text": [
      "\u001b[32m[I 2023-03-29 17:27:18,884]\u001b[0m A new study created in memory with name: no-name-350ed4d5-55ec-47fb-99ec-07015b3b75b6\u001b[0m\n",
      "\u001b[32m[I 2023-03-29 17:27:20,333]\u001b[0m Trial 0 finished with value: 0.9313167259786477 and parameters: {'n_estimators': 150, 'reg_alpha': 1.1544719515821524, 'reg_lambda': 0.658156610034278, 'colsample_bytree': 0.7, 'subsample': 0.4, 'learning_rate': 0.02, 'max_depth': 10, 'num_leaves': 835, 'min_child_samples': 103, 'min_data_per_groups': 72}. Best is trial 0 with value: 0.9313167259786477.\u001b[0m\n",
      "\u001b[32m[I 2023-03-29 17:27:52,713]\u001b[0m Trial 1 finished with value: 0.9879003558718861 and parameters: {'n_estimators': 3000, 'reg_alpha': 0.02206757662063572, 'reg_lambda': 3.2974256213878115, 'colsample_bytree': 0.9, 'subsample': 0.4, 'learning_rate': 0.02, 'max_depth': 100, 'num_leaves': 684, 'min_child_samples': 95, 'min_data_per_groups': 62}. Best is trial 1 with value: 0.9879003558718861.\u001b[0m\n",
      "\u001b[32m[I 2023-03-29 17:27:54,308]\u001b[0m Trial 2 finished with value: 0.8871886120996442 and parameters: {'n_estimators': 300, 'reg_alpha': 0.0020040257756187563, 'reg_lambda': 0.2478910674574276, 'colsample_bytree': 0.5, 'subsample': 0.6, 'learning_rate': 0.006, 'max_depth': 100, 'num_leaves': 438, 'min_child_samples': 281, 'min_data_per_groups': 56}. Best is trial 1 with value: 0.9879003558718861.\u001b[0m\n",
      "\u001b[32m[I 2023-03-29 17:27:55,476]\u001b[0m Trial 3 finished with value: 0.9120996441281138 and parameters: {'n_estimators': 150, 'reg_alpha': 0.005224055434253783, 'reg_lambda': 0.19771223129194324, 'colsample_bytree': 0.4, 'subsample': 1.0, 'learning_rate': 0.006, 'max_depth': 10, 'num_leaves': 845, 'min_child_samples': 158, 'min_data_per_groups': 95}. Best is trial 1 with value: 0.9879003558718861.\u001b[0m\n",
      "\u001b[32m[I 2023-03-29 17:27:57,141]\u001b[0m Trial 4 finished with value: 0.9352313167259787 and parameters: {'n_estimators': 300, 'reg_alpha': 0.0031428093532190186, 'reg_lambda': 0.04282939085656489, 'colsample_bytree': 0.8, 'subsample': 0.4, 'learning_rate': 0.02, 'max_depth': 10, 'num_leaves': 966, 'min_child_samples': 279, 'min_data_per_groups': 73}. Best is trial 1 with value: 0.9879003558718861.\u001b[0m\n",
      "\u001b[32m[I 2023-03-29 17:27:59,843]\u001b[0m Trial 5 finished with value: 0.9209964412811388 and parameters: {'n_estimators': 200, 'reg_alpha': 0.05632022619341262, 'reg_lambda': 0.7493761932520386, 'colsample_bytree': 0.8, 'subsample': 0.5, 'learning_rate': 0.006, 'max_depth': 10, 'num_leaves': 521, 'min_child_samples': 73, 'min_data_per_groups': 59}. Best is trial 1 with value: 0.9879003558718861.\u001b[0m\n",
      "\u001b[32m[I 2023-03-29 17:29:39,280]\u001b[0m Trial 6 finished with value: 0.9882562277580071 and parameters: {'n_estimators': 3000, 'reg_alpha': 0.002803513848291799, 'reg_lambda': 0.8092596450372844, 'colsample_bytree': 0.5, 'subsample': 1.0, 'learning_rate': 0.006, 'max_depth': 10, 'num_leaves': 490, 'min_child_samples': 7, 'min_data_per_groups': 68}. Best is trial 6 with value: 0.9882562277580071.\u001b[0m\n",
      "\u001b[32m[I 2023-03-29 17:29:40,909]\u001b[0m Trial 7 finished with value: 0.9202846975088967 and parameters: {'n_estimators': 200, 'reg_alpha': 0.0012316117528039252, 'reg_lambda': 0.05837308600490507, 'colsample_bytree': 1.0, 'subsample': 0.6, 'learning_rate': 0.014, 'max_depth': 100, 'num_leaves': 223, 'min_child_samples': 161, 'min_data_per_groups': 93}. Best is trial 6 with value: 0.9882562277580071.\u001b[0m\n",
      "\u001b[32m[I 2023-03-29 17:30:10,715]\u001b[0m Trial 8 finished with value: 0.9871886120996441 and parameters: {'n_estimators': 3000, 'reg_alpha': 0.0021792123923850275, 'reg_lambda': 0.11583397833871921, 'colsample_bytree': 0.5, 'subsample': 0.7, 'learning_rate': 0.014, 'max_depth': 10, 'num_leaves': 533, 'min_child_samples': 135, 'min_data_per_groups': 87}. Best is trial 6 with value: 0.9882562277580071.\u001b[0m\n",
      "\u001b[32m[I 2023-03-29 17:30:13,174]\u001b[0m Trial 9 finished with value: 0.9153024911032028 and parameters: {'n_estimators': 300, 'reg_alpha': 3.206154200117663, 'reg_lambda': 0.0030384183854661666, 'colsample_bytree': 0.7, 'subsample': 1.0, 'learning_rate': 0.006, 'max_depth': 20, 'num_leaves': 752, 'min_child_samples': 116, 'min_data_per_groups': 56}. Best is trial 6 with value: 0.9882562277580071.\u001b[0m\n",
      "\u001b[32m[I 2023-03-29 17:30:21,525]\u001b[0m Trial 10 finished with value: 0.9483985765124555 and parameters: {'n_estimators': 3000, 'reg_alpha': 0.2359242762491054, 'reg_lambda': 5.722671202010908, 'colsample_bytree': 0.3, 'subsample': 0.8, 'learning_rate': 0.017, 'max_depth': 20, 'num_leaves': 6, 'min_child_samples': 29, 'min_data_per_groups': 14}. Best is trial 6 with value: 0.9882562277580071.\u001b[0m\n",
      "\u001b[32m[I 2023-03-29 17:31:28,517]\u001b[0m Trial 11 finished with value: 0.9864768683274021 and parameters: {'n_estimators': 3000, 'reg_alpha': 0.02200720094401762, 'reg_lambda': 5.871792429793303, 'colsample_bytree': 0.9, 'subsample': 0.4, 'learning_rate': 0.01, 'max_depth': 100, 'num_leaves': 629, 'min_child_samples': 23, 'min_data_per_groups': 35}. Best is trial 6 with value: 0.9882562277580071.\u001b[0m\n",
      "\u001b[32m[I 2023-03-29 17:31:48,024]\u001b[0m Trial 12 finished with value: 0.9697508896797153 and parameters: {'n_estimators': 3000, 'reg_alpha': 0.014180140408604137, 'reg_lambda': 2.078608384214345, 'colsample_bytree': 0.6, 'subsample': 1.0, 'learning_rate': 0.008, 'max_depth': 100, 'num_leaves': 297, 'min_child_samples': 200, 'min_data_per_groups': 32}. Best is trial 6 with value: 0.9882562277580071.\u001b[0m\n",
      "\u001b[32m[I 2023-03-29 17:33:32,732]\u001b[0m Trial 13 finished with value: 0.9839857651245552 and parameters: {'n_estimators': 3000, 'reg_alpha': 0.011977494953274043, 'reg_lambda': 9.008112631074836, 'colsample_bytree': 0.9, 'subsample': 0.7, 'learning_rate': 0.02, 'max_depth': 100, 'num_leaves': 674, 'min_child_samples': 6, 'min_data_per_groups': 39}. Best is trial 6 with value: 0.9882562277580071.\u001b[0m\n",
      "\u001b[32m[I 2023-03-29 17:34:05,194]\u001b[0m Trial 14 finished with value: 0.9846975088967972 and parameters: {'n_estimators': 3000, 'reg_alpha': 0.05735862251188205, 'reg_lambda': 1.5903268056028983, 'colsample_bytree': 0.9, 'subsample': 0.5, 'learning_rate': 0.017, 'max_depth': 20, 'num_leaves': 359, 'min_child_samples': 67, 'min_data_per_groups': 75}. Best is trial 6 with value: 0.9882562277580071.\u001b[0m\n",
      "\u001b[32m[I 2023-03-29 17:34:42,325]\u001b[0m Trial 15 finished with value: 0.9861209964412812 and parameters: {'n_estimators': 3000, 'reg_alpha': 0.006720271745778998, 'reg_lambda': 1.328989843399635, 'colsample_bytree': 0.5, 'subsample': 0.8, 'learning_rate': 0.008, 'max_depth': 10, 'num_leaves': 119, 'min_child_samples': 64, 'min_data_per_groups': 1}. Best is trial 6 with value: 0.9882562277580071.\u001b[0m\n",
      "\u001b[32m[I 2023-03-29 17:35:00,369]\u001b[0m Trial 16 finished with value: 0.9722419928825623 and parameters: {'n_estimators': 3000, 'reg_alpha': 0.15788983974997475, 'reg_lambda': 2.852870993257907, 'colsample_bytree': 0.4, 'subsample': 1.0, 'learning_rate': 0.01, 'max_depth': 100, 'num_leaves': 615, 'min_child_samples': 198, 'min_data_per_groups': 45}. Best is trial 6 with value: 0.9882562277580071.\u001b[0m\n",
      "\u001b[32m[I 2023-03-29 17:35:02,613]\u001b[0m Trial 17 finished with value: 0.9370106761565836 and parameters: {'n_estimators': 200, 'reg_alpha': 0.019095105836545084, 'reg_lambda': 9.684325714549844, 'colsample_bytree': 0.6, 'subsample': 0.4, 'learning_rate': 0.02, 'max_depth': 100, 'num_leaves': 428, 'min_child_samples': 56, 'min_data_per_groups': 65}. Best is trial 6 with value: 0.9882562277580071.\u001b[0m\n",
      "\u001b[32m[I 2023-03-29 17:35:04,473]\u001b[0m Trial 18 finished with value: 0.9295373665480428 and parameters: {'n_estimators': 150, 'reg_alpha': 0.00514556279681475, 'reg_lambda': 0.5151423352632747, 'colsample_bytree': 1.0, 'subsample': 1.0, 'learning_rate': 0.02, 'max_depth': 10, 'num_leaves': 729, 'min_child_samples': 103, 'min_data_per_groups': 83}. Best is trial 6 with value: 0.9882562277580071.\u001b[0m\n",
      "\u001b[32m[I 2023-03-29 17:37:29,027]\u001b[0m Trial 19 finished with value: 0.9797153024911032 and parameters: {'n_estimators': 3000, 'reg_alpha': 0.0010235636203234737, 'reg_lambda': 2.7863995316156167, 'colsample_bytree': 0.3, 'subsample': 0.4, 'learning_rate': 0.006, 'max_depth': 20, 'num_leaves': 964, 'min_child_samples': 1, 'min_data_per_groups': 47}. Best is trial 6 with value: 0.9882562277580071.\u001b[0m\n",
      "\u001b[32m[I 2023-03-29 17:37:48,933]\u001b[0m Trial 20 finished with value: 0.9708185053380783 and parameters: {'n_estimators': 3000, 'reg_alpha': 0.02844104095832428, 'reg_lambda': 0.4064976407098658, 'colsample_bytree': 0.5, 'subsample': 0.5, 'learning_rate': 0.008, 'max_depth': 100, 'num_leaves': 566, 'min_child_samples': 202, 'min_data_per_groups': 26}. Best is trial 6 with value: 0.9882562277580071.\u001b[0m\n",
      "\u001b[32m[I 2023-03-29 17:38:15,985]\u001b[0m Trial 21 finished with value: 0.9879003558718861 and parameters: {'n_estimators': 3000, 'reg_alpha': 0.0022288273376572564, 'reg_lambda': 0.177738873807055, 'colsample_bytree': 0.5, 'subsample': 0.7, 'learning_rate': 0.014, 'max_depth': 10, 'num_leaves': 490, 'min_child_samples': 127, 'min_data_per_groups': 88}. Best is trial 6 with value: 0.9882562277580071.\u001b[0m\n",
      "\u001b[32m[I 2023-03-29 17:38:33,115]\u001b[0m Trial 22 finished with value: 0.9779359430604982 and parameters: {'n_estimators': 3000, 'reg_alpha': 0.0038555731412452106, 'reg_lambda': 1.0684209191929466, 'colsample_bytree': 0.5, 'subsample': 0.7, 'learning_rate': 0.014, 'max_depth': 10, 'num_leaves': 469, 'min_child_samples': 235, 'min_data_per_groups': 83}. Best is trial 6 with value: 0.9882562277580071.\u001b[0m\n",
      "\u001b[32m[I 2023-03-29 17:39:01,523]\u001b[0m Trial 23 finished with value: 0.9882562277580071 and parameters: {'n_estimators': 3000, 'reg_alpha': 0.00884509472033486, 'reg_lambda': 0.31542886282218247, 'colsample_bytree': 0.9, 'subsample': 0.7, 'learning_rate': 0.014, 'max_depth': 10, 'num_leaves': 307, 'min_child_samples': 131, 'min_data_per_groups': 64}. Best is trial 6 with value: 0.9882562277580071.\u001b[0m\n",
      "\u001b[32m[I 2023-03-29 17:39:44,311]\u001b[0m Trial 24 finished with value: 0.9868327402135232 and parameters: {'n_estimators': 3000, 'reg_alpha': 0.00869719455455398, 'reg_lambda': 0.9707250565149188, 'colsample_bytree': 0.9, 'subsample': 0.7, 'learning_rate': 0.014, 'max_depth': 10, 'num_leaves': 263, 'min_child_samples': 83, 'min_data_per_groups': 66}. Best is trial 6 with value: 0.9882562277580071.\u001b[0m\n",
      "\u001b[32m[I 2023-03-29 17:40:06,508]\u001b[0m Trial 25 finished with value: 0.9871886120996441 and parameters: {'n_estimators': 3000, 'reg_alpha': 0.008295916939703253, 'reg_lambda': 0.34908089745398907, 'colsample_bytree': 0.9, 'subsample': 0.8, 'learning_rate': 0.017, 'max_depth': 10, 'num_leaves': 367, 'min_child_samples': 171, 'min_data_per_groups': 64}. Best is trial 6 with value: 0.9882562277580071.\u001b[0m\n",
      "\u001b[32m[I 2023-03-29 17:40:07,997]\u001b[0m Trial 26 finished with value: 0.9113879003558719 and parameters: {'n_estimators': 150, 'reg_alpha': 0.033937909663514565, 'reg_lambda': 3.3406835502689742, 'colsample_bytree': 0.9, 'subsample': 0.6, 'learning_rate': 0.01, 'max_depth': 10, 'num_leaves': 126, 'min_child_samples': 93, 'min_data_per_groups': 78}. Best is trial 6 with value: 0.9882562277580071.\u001b[0m\n",
      "\u001b[32m[I 2023-03-29 17:40:11,909]\u001b[0m Trial 27 finished with value: 0.9277580071174377 and parameters: {'n_estimators': 200, 'reg_alpha': 0.010609112963068256, 'reg_lambda': 1.433481661181402, 'colsample_bytree': 0.9, 'subsample': 0.7, 'learning_rate': 0.006, 'max_depth': 100, 'num_leaves': 351, 'min_child_samples': 36, 'min_data_per_groups': 53}. Best is trial 6 with value: 0.9882562277580071.\u001b[0m\n",
      "\u001b[32m[I 2023-03-29 17:40:16,782]\u001b[0m Trial 28 finished with value: 0.9693950177935943 and parameters: {'n_estimators': 300, 'reg_alpha': 0.004162424819374349, 'reg_lambda': 0.7515118846797291, 'colsample_bytree': 0.9, 'subsample': 0.4, 'learning_rate': 0.02, 'max_depth': 10, 'num_leaves': 172, 'min_child_samples': 44, 'min_data_per_groups': 66}. Best is trial 6 with value: 0.9882562277580071.\u001b[0m\n",
      "\u001b[32m[I 2023-03-29 17:40:18,086]\u001b[0m Trial 29 finished with value: 0.9224199288256227 and parameters: {'n_estimators': 150, 'reg_alpha': 0.3024465803970429, 'reg_lambda': 0.44103177554114087, 'colsample_bytree': 0.7, 'subsample': 1.0, 'learning_rate': 0.014, 'max_depth': 20, 'num_leaves': 778, 'min_child_samples': 136, 'min_data_per_groups': 48}. Best is trial 6 with value: 0.9882562277580071.\u001b[0m\n",
      "\u001b[32m[I 2023-03-29 17:40:43,956]\u001b[0m Trial 30 finished with value: 0.9857651245551602 and parameters: {'n_estimators': 3000, 'reg_alpha': 0.016301431423081485, 'reg_lambda': 4.248186951865464, 'colsample_bytree': 0.4, 'subsample': 0.4, 'learning_rate': 0.02, 'max_depth': 10, 'num_leaves': 824, 'min_child_samples': 110, 'min_data_per_groups': 68}. Best is trial 6 with value: 0.9882562277580071.\u001b[0m\n",
      "\u001b[32m[I 2023-03-29 17:41:12,461]\u001b[0m Trial 31 finished with value: 0.9879003558718861 and parameters: {'n_estimators': 3000, 'reg_alpha': 0.0021574531651759117, 'reg_lambda': 0.17894550601469808, 'colsample_bytree': 0.5, 'subsample': 0.7, 'learning_rate': 0.014, 'max_depth': 10, 'num_leaves': 582, 'min_child_samples': 130, 'min_data_per_groups': 98}. Best is trial 6 with value: 0.9882562277580071.\u001b[0m\n",
      "\u001b[32m[I 2023-03-29 17:41:35,739]\u001b[0m Trial 32 finished with value: 0.9843416370106761 and parameters: {'n_estimators': 3000, 'reg_alpha': 0.002279215185804594, 'reg_lambda': 0.26928540913453725, 'colsample_bytree': 0.5, 'subsample': 0.7, 'learning_rate': 0.014, 'max_depth': 10, 'num_leaves': 461, 'min_child_samples': 177, 'min_data_per_groups': 88}. Best is trial 6 with value: 0.9882562277580071.\u001b[0m\n",
      "\u001b[32m[I 2023-03-29 17:42:00,848]\u001b[0m Trial 33 finished with value: 0.9868327402135232 and parameters: {'n_estimators': 3000, 'reg_alpha': 0.006091635731137987, 'reg_lambda': 0.7447245497370961, 'colsample_bytree': 0.5, 'subsample': 0.7, 'learning_rate': 0.014, 'max_depth': 10, 'num_leaves': 678, 'min_child_samples': 148, 'min_data_per_groups': 79}. Best is trial 6 with value: 0.9882562277580071.\u001b[0m\n",
      "\u001b[32m[I 2023-03-29 17:42:04,030]\u001b[0m Trial 34 finished with value: 0.9174377224199288 and parameters: {'n_estimators': 300, 'reg_alpha': 0.0014441629258636925, 'reg_lambda': 0.19343412889354908, 'colsample_bytree': 0.8, 'subsample': 0.7, 'learning_rate': 0.006, 'max_depth': 10, 'num_leaves': 437, 'min_child_samples': 119, 'min_data_per_groups': 59}. Best is trial 6 with value: 0.9882562277580071.\u001b[0m\n",
      "\u001b[32m[I 2023-03-29 17:42:38,396]\u001b[0m Trial 35 finished with value: 0.9875444839857651 and parameters: {'n_estimators': 3000, 'reg_alpha': 0.0033376514054078046, 'reg_lambda': 0.121433410053635, 'colsample_bytree': 0.5, 'subsample': 0.6, 'learning_rate': 0.014, 'max_depth': 10, 'num_leaves': 386, 'min_child_samples': 93, 'min_data_per_groups': 71}. Best is trial 6 with value: 0.9882562277580071.\u001b[0m\n",
      "\u001b[32m[I 2023-03-29 17:42:39,449]\u001b[0m Trial 36 finished with value: 0.8444839857651245 and parameters: {'n_estimators': 150, 'reg_alpha': 0.0029074902616902055, 'reg_lambda': 0.05398886042258699, 'colsample_bytree': 1.0, 'subsample': 1.0, 'learning_rate': 0.006, 'max_depth': 10, 'num_leaves': 508, 'min_child_samples': 223, 'min_data_per_groups': 60}. Best is trial 6 with value: 0.9882562277580071.\u001b[0m\n",
      "\u001b[32m[I 2023-03-29 17:42:40,422]\u001b[0m Trial 37 finished with value: 0.9170818505338079 and parameters: {'n_estimators': 200, 'reg_alpha': 0.001389372504911051, 'reg_lambda': 0.6439923371388216, 'colsample_bytree': 0.6, 'subsample': 0.4, 'learning_rate': 0.02, 'max_depth': 100, 'num_leaves': 283, 'min_child_samples': 299, 'min_data_per_groups': 93}. Best is trial 6 with value: 0.9882562277580071.\u001b[0m\n",
      "\u001b[32m[I 2023-03-29 17:43:04,181]\u001b[0m Trial 38 finished with value: 0.9868327402135232 and parameters: {'n_estimators': 3000, 'reg_alpha': 0.005973092396339235, 'reg_lambda': 0.2686505361466407, 'colsample_bytree': 0.7, 'subsample': 0.5, 'learning_rate': 0.014, 'max_depth': 10, 'num_leaves': 656, 'min_child_samples': 155, 'min_data_per_groups': 72}. Best is trial 6 with value: 0.9882562277580071.\u001b[0m\n",
      "\u001b[32m[I 2023-03-29 17:43:07,140]\u001b[0m Trial 39 finished with value: 0.9309608540925267 and parameters: {'n_estimators': 300, 'reg_alpha': 0.0016093337664667515, 'reg_lambda': 2.271831891021417, 'colsample_bytree': 0.3, 'subsample': 0.7, 'learning_rate': 0.006, 'max_depth': 10, 'num_leaves': 886, 'min_child_samples': 83, 'min_data_per_groups': 89}. Best is trial 6 with value: 0.9882562277580071.\u001b[0m\n",
      "\u001b[32m[I 2023-03-29 17:43:24,704]\u001b[0m Trial 40 finished with value: 0.9793594306049822 and parameters: {'n_estimators': 3000, 'reg_alpha': 0.002921077012647829, 'reg_lambda': 0.08298508380754671, 'colsample_bytree': 0.8, 'subsample': 0.6, 'learning_rate': 0.014, 'max_depth': 100, 'num_leaves': 562, 'min_child_samples': 255, 'min_data_per_groups': 54}. Best is trial 6 with value: 0.9882562277580071.\u001b[0m\n",
      "\u001b[32m[I 2023-03-29 17:43:51,867]\u001b[0m Trial 41 finished with value: 0.9871886120996441 and parameters: {'n_estimators': 3000, 'reg_alpha': 0.0020711057998514274, 'reg_lambda': 0.17422343677105698, 'colsample_bytree': 0.5, 'subsample': 0.7, 'learning_rate': 0.014, 'max_depth': 10, 'num_leaves': 583, 'min_child_samples': 125, 'min_data_per_groups': 98}. Best is trial 6 with value: 0.9882562277580071.\u001b[0m\n",
      "\u001b[32m[I 2023-03-29 17:44:19,348]\u001b[0m Trial 42 finished with value: 0.9871886120996441 and parameters: {'n_estimators': 3000, 'reg_alpha': 0.0021059688564259074, 'reg_lambda': 0.14757357450319067, 'colsample_bytree': 0.5, 'subsample': 0.7, 'learning_rate': 0.014, 'max_depth': 10, 'num_leaves': 712, 'min_child_samples': 135, 'min_data_per_groups': 100}. Best is trial 6 with value: 0.9882562277580071.\u001b[0m\n",
      "\u001b[32m[I 2023-03-29 17:44:41,888]\u001b[0m Trial 43 finished with value: 0.9857651245551602 and parameters: {'n_estimators': 3000, 'reg_alpha': 0.004497164544680827, 'reg_lambda': 0.030180082600271926, 'colsample_bytree': 0.5, 'subsample': 0.7, 'learning_rate': 0.014, 'max_depth': 10, 'num_leaves': 532, 'min_child_samples': 179, 'min_data_per_groups': 83}. Best is trial 6 with value: 0.9882562277580071.\u001b[0m\n",
      "\u001b[32m[I 2023-03-29 17:45:06,223]\u001b[0m Trial 44 finished with value: 0.9868327402135232 and parameters: {'n_estimators': 3000, 'reg_alpha': 0.0010915163780666137, 'reg_lambda': 0.321903328404767, 'colsample_bytree': 0.5, 'subsample': 0.7, 'learning_rate': 0.017, 'max_depth': 10, 'num_leaves': 600, 'min_child_samples': 144, 'min_data_per_groups': 95}. Best is trial 6 with value: 0.9882562277580071.\u001b[0m\n",
      "\u001b[32m[I 2023-03-29 17:45:36,280]\u001b[0m Trial 45 finished with value: 0.9886120996441281 and parameters: {'n_estimators': 3000, 'reg_alpha': 0.009102095916152044, 'reg_lambda': 0.21111366955566466, 'colsample_bytree': 0.9, 'subsample': 1.0, 'learning_rate': 0.014, 'max_depth': 20, 'num_leaves': 512, 'min_child_samples': 127, 'min_data_per_groups': 90}. Best is trial 45 with value: 0.9886120996441281.\u001b[0m\n",
      "\u001b[32m[I 2023-03-29 17:46:10,731]\u001b[0m Trial 46 finished with value: 0.9879003558718861 and parameters: {'n_estimators': 3000, 'reg_alpha': 0.009303395591469395, 'reg_lambda': 0.5641817933915275, 'colsample_bytree': 0.9, 'subsample': 1.0, 'learning_rate': 0.01, 'max_depth': 20, 'num_leaves': 321, 'min_child_samples': 105, 'min_data_per_groups': 76}. Best is trial 45 with value: 0.9886120996441281.\u001b[0m\n",
      "\u001b[32m[I 2023-03-29 17:46:12,711]\u001b[0m Trial 47 finished with value: 0.8907473309608541 and parameters: {'n_estimators': 200, 'reg_alpha': 0.012992425081962451, 'reg_lambda': 1.7253285135429626, 'colsample_bytree': 0.9, 'subsample': 1.0, 'learning_rate': 0.008, 'max_depth': 20, 'num_leaves': 499, 'min_child_samples': 165, 'min_data_per_groups': 41}. Best is trial 45 with value: 0.9886120996441281.\u001b[0m\n",
      "\u001b[32m[I 2023-03-29 17:46:43,839]\u001b[0m Trial 48 finished with value: 0.9868327402135232 and parameters: {'n_estimators': 3000, 'reg_alpha': 0.006534822039593964, 'reg_lambda': 1.0458225300355586, 'colsample_bytree': 0.9, 'subsample': 1.0, 'learning_rate': 0.02, 'max_depth': 20, 'num_leaves': 406, 'min_child_samples': 54, 'min_data_per_groups': 60}. Best is trial 45 with value: 0.9886120996441281.\u001b[0m\n",
      "\u001b[32m[I 2023-03-29 17:47:00,596]\u001b[0m Trial 49 finished with value: 0.9708185053380783 and parameters: {'n_estimators': 300, 'reg_alpha': 0.024959744039811355, 'reg_lambda': 0.07622270039616941, 'colsample_bytree': 0.4, 'subsample': 0.8, 'learning_rate': 0.006, 'max_depth': 20, 'num_leaves': 216, 'min_child_samples': 16, 'min_data_per_groups': 70}. Best is trial 45 with value: 0.9886120996441281.\u001b[0m\n"
     ]
    },
    {
     "name": "stdout",
     "output_type": "stream",
     "text": [
      "Number of finished trials: 50\n",
      "Best trial: {'n_estimators': 3000, 'reg_alpha': 0.009102095916152044, 'reg_lambda': 0.21111366955566466, 'colsample_bytree': 0.9, 'subsample': 1.0, 'learning_rate': 0.014, 'max_depth': 20, 'num_leaves': 512, 'min_child_samples': 127, 'min_data_per_groups': 90}\n"
     ]
    }
   ],
   "source": [
    "import optuna\n",
    "from lightgbm import LGBMClassifier\n",
    "def objective_lgbm(trial):\n",
    "    X_train, X_test, y_train, y_test = train_test_split(X_resampled, y_resampled, test_size=0.3, random_state=42)\n",
    "    param = {\n",
    "        'random_state': 42,\n",
    "        'n_estimators': trial.suggest_categorical(\"n_estimators\", [150, 200, 300, 3000]),\n",
    "        'reg_alpha': trial.suggest_loguniform('reg_alpha', 1e-3, 10.0),\n",
    "        'reg_lambda': trial.suggest_loguniform('reg_lambda', 1e-3, 10.0),\n",
    "        'colsample_bytree': trial.suggest_categorical('colsample_bytree', [0.3,0.4,0.5,0.6,0.7,0.8,0.9, 1.0]),\n",
    "        'subsample': trial.suggest_categorical('subsample', [0.4,0.5,0.6,0.7,0.8,1.0]),\n",
    "        'learning_rate': trial.suggest_categorical('learning_rate', [0.006,0.008,0.01,0.014,0.017,0.02]),\n",
    "        'max_depth': trial.suggest_categorical('max_depth', [10,20,100]),\n",
    "        'num_leaves' : trial.suggest_int('num_leaves', 1, 1000),\n",
    "        'min_child_samples': trial.suggest_int('min_child_samples', 1, 300),\n",
    "        'cat_smooth' : trial.suggest_int('min_data_per_groups', 1, 100)\n",
    "    }\n",
    "    model = LGBMClassifier(**param)\n",
    "    model.fit(X_train, y_train, early_stopping_rounds=100, eval_set=[(X_test, y_test)], verbose=False)    \n",
    "    preds = model.predict(X_test)\n",
    "    \n",
    "    acc = accuracy_score(y_test, preds)      \n",
    "\n",
    "    return acc\n",
    "\n",
    "study = optuna.create_study(direction='maximize')\n",
    "study.optimize(objective_lgbm, n_trials=50)\n",
    "params_lgbm = study.best_trial.params\n",
    "print('Number of finished trials:', len(study.trials))\n",
    "print('Best trial:', params_lgbm)"
   ]
  },
  {
   "cell_type": "code",
   "execution_count": 10,
   "metadata": {
    "execution": {
     "iopub.execute_input": "2023-03-29T17:47:00.617827Z",
     "iopub.status.busy": "2023-03-29T17:47:00.617420Z",
     "iopub.status.idle": "2023-03-29T17:47:28.752614Z",
     "shell.execute_reply": "2023-03-29T17:47:28.751017Z",
     "shell.execute_reply.started": "2023-03-29T17:47:00.617787Z"
    }
   },
   "outputs": [
    {
     "name": "stdout",
     "output_type": "stream",
     "text": [
      "[LightGBM] [Warning] Unknown parameter: min_data_per_groups\n",
      "Accuracy: 0.99\n",
      "============================================================\n",
      "Recall: 0.98\n",
      "============================================================\n",
      "Precision: 0.99\n",
      "============================================================\n",
      "F1: 0.99\n",
      "============================================================\n",
      "Auc: 0.99\n",
      "============================================================\n",
      "Classification Report:\n",
      "               precision    recall  f1-score   support\n",
      "\n",
      "           0       0.99      0.98      0.99      1401\n",
      "           1       0.98      0.99      0.99      1409\n",
      "\n",
      "    accuracy                           0.99      2810\n",
      "   macro avg       0.99      0.99      0.99      2810\n",
      "weighted avg       0.99      0.99      0.99      2810\n",
      "\n",
      "============================================================\n",
      "Confusion Matrix: [[1375   26]\n",
      " [   9 1400]]\n",
      "============================================================\n"
     ]
    }
   ],
   "source": [
    "X_train, X_test, y_train, y_test = train_test_split(X_resampled, y_resampled, test_size=0.3, random_state=42, stratify=y)\n",
    "model = LGBMClassifier(**params_lgbm)\n",
    "model.fit(X_train, y_train, early_stopping_rounds=50, eval_set=[(X_test, y_test)], verbose=False)   \n",
    "y_pred = model.predict(X_test)\n",
    "print(f\"Accuracy: {round(accuracy_score(y_pred, y_test), 2)}\")\n",
    "print(\"=\"*60)\n",
    "print(f\"Recall: {round(recall_score(y_pred,y_test),2)}\")\n",
    "print(\"=\"*60)\n",
    "print(f\"Precision: {round(precision_score(y_pred,y_test), 2)}\")\n",
    "print(\"=\"*60)\n",
    "print(f\"F1: {round(f1_score(y_pred,y_test), 2)}\")\n",
    "print(\"=\"*60)\n",
    "print(f\"Auc: {round(roc_auc_score(y_pred,y_test), 2)}\")\n",
    "print(\"=\"*60)\n",
    "CR = classification_report(y_test, y_pred)\n",
    "CM = confusion_matrix(y_test, y_pred)\n",
    "print(f\"Classification Report:\\n {CR}\")\n",
    "print(\"=\"*60)\n",
    "print(f\"Confusion Matrix: {CM}\")\n",
    "print(\"=\"*60)"
   ]
  },
  {
   "cell_type": "code",
   "execution_count": null,
   "metadata": {
    "execution": {
     "iopub.execute_input": "2023-03-29T14:25:22.217618Z",
     "iopub.status.busy": "2023-03-29T14:25:22.217277Z",
     "iopub.status.idle": "2023-03-29T14:25:25.245841Z",
     "shell.execute_reply": "2023-03-29T14:25:25.244738Z",
     "shell.execute_reply.started": "2023-03-29T14:25:22.217584Z"
    }
   },
   "outputs": [],
   "source": [
    "kf = StratifiedKFold(n_splits=5, shuffle=True, random_state=42)\n",
    "\n",
    "cnt = 1\n",
    "# split()  method generate indices to split data into training and test set.\n",
    "for train_index, test_index in kf.split(X, y):\n",
    "    print(f'Fold:{cnt}, Train set: {len(train_index)}, Test set:{len(test_index)}')\n",
    "    cnt+=1\n",
    "\n",
    "score = cross_val_score(ensemble.RandomForestClassifier(random_state= 42), X, y, cv= kf, scoring=\"accuracy\")\n",
    "print(f'Scores for each fold are: {score}')\n",
    "print(f'Average score: {\"{:.2f}\".format(score.mean())}')"
   ]
  },
  {
   "cell_type": "code",
   "execution_count": null,
   "metadata": {
    "execution": {
     "iopub.execute_input": "2023-03-29T15:05:33.048761Z",
     "iopub.status.busy": "2023-03-29T15:05:33.048396Z",
     "iopub.status.idle": "2023-03-29T15:05:35.359259Z",
     "shell.execute_reply": "2023-03-29T15:05:35.358221Z",
     "shell.execute_reply.started": "2023-03-29T15:05:33.048734Z"
    }
   },
   "outputs": [],
   "source": [
    "from catboost import CatBoostClassifier\n",
    "X_train, X_test, y_train, y_test = train_test_split(X, y, test_size=0.30, random_state=42)\n",
    "\n",
    "catboost_model = CatBoostClassifier(verbose=False, random_state=42).fit(X_train, y_train)\n",
    "y_pred = catboost_model.predict(X_test)\n",
    "\n",
    "print(f\"Accuracy: {round(accuracy_score(y_pred, y_test), 2)}\")\n",
    "print(\"=\"*60)\n",
    "print(f\"Recall: {round(recall_score(y_pred,y_test),2)}\")\n",
    "print(\"=\"*60)\n",
    "print(f\"Precision: {round(precision_score(y_pred,y_test), 2)}\")\n",
    "print(\"=\"*60)\n",
    "print(f\"F1: {round(f1_score(y_pred,y_test), 2)}\")\n",
    "print(\"=\"*60)\n",
    "print(f\"Auc: {round(roc_auc_score(y_pred,y_test), 2)}\")\n",
    "print(\"=\"*60)\n",
    "CR = classification_report(y_test, y_pred)\n",
    "CM = confusion_matrix(y_test, y_pred)\n",
    "print(f\"Classification Report:\\n {CR}\")\n",
    "print(\"=\"*60)\n",
    "print(f\"Confusion Matrix: {CM}\")\n",
    "print(\"=\"*60)"
   ]
  },
  {
   "cell_type": "code",
   "execution_count": null,
   "metadata": {},
   "outputs": [],
   "source": []
  }
 ],
 "metadata": {
  "kernelspec": {
   "display_name": "Python 3",
   "language": "python",
   "name": "python3"
  },
  "language_info": {
   "codemirror_mode": {
    "name": "ipython",
    "version": 3
   },
   "file_extension": ".py",
   "mimetype": "text/x-python",
   "name": "python",
   "nbconvert_exporter": "python",
   "pygments_lexer": "ipython3",
   "version": "3.7.12"
  }
 },
 "nbformat": 4,
 "nbformat_minor": 4
}
